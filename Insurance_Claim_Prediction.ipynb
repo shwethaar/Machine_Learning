{
  "nbformat": 4,
  "nbformat_minor": 0,
  "metadata": {
    "colab": {
      "name": "Copy of insurance_prediction.ipynb",
      "provenance": [],
      "collapsed_sections": [],
      "mount_file_id": "12bxWJFsM-fXli8UoeHZLLuO6sMVxZxKs",
      "authorship_tag": "ABX9TyOsW1Y7ji/9XF8k9tYtAHCS",
      "include_colab_link": true
    },
    "kernelspec": {
      "display_name": "Python 3",
      "name": "python3"
    },
    "language_info": {
      "name": "python"
    }
  },
  "cells": [
    {
      "cell_type": "markdown",
      "metadata": {
        "id": "view-in-github",
        "colab_type": "text"
      },
      "source": [
        "<a href=\"https://colab.research.google.com/github/shwethaar/Machine_Learning/blob/master/Insurance_Claim_Prediction.ipynb\" target=\"_parent\"><img src=\"https://colab.research.google.com/assets/colab-badge.svg\" alt=\"Open In Colab\"/></a>"
      ]
    },
    {
      "cell_type": "markdown",
      "source": [
        "##Insurance Claim Prediction\n",
        "\n",
        " "
      ],
      "metadata": {
        "id": "hXgrzzYX9-65"
      }
    },
    {
      "cell_type": "markdown",
      "source": [
        "Dataset Link from Kaggle: [Kaggle Dataset](https://www.kaggle.com/mhdzahier/travel-insurance)\n",
        "\n",
        "[My GitHub Profile](https://github.com/shwethaar)"
      ],
      "metadata": {
        "id": "5Or8ssbl-MRl"
      }
    },
    {
      "cell_type": "code",
      "source": [
        "# This Python 3 environment comes with many helpful analytics libraries installed\n",
        "# It is defined by the kaggle/python Docker image: https://github.com/kaggle/docker-python\n",
        "# For example, here's several helpful packages to load\n",
        "\n",
        "import numpy as np # linear algebra\n",
        "import pandas as pd # data processing, CSV file I/O (e.g. pd.read_csv)\n",
        "\n",
        "# Input data files are available in the read-only \"../input/\" directory\n",
        "# For example, running this (by clicking run or pressing Shift+Enter) will list all files under the input directory\n",
        "\n",
        "import os\n",
        "for dirname, _, filenames in os.walk('/kaggle/input'):\n",
        "    for filename in filenames:\n",
        "        print(os.path.join(dirname, filename))\n",
        "\n",
        "# You can write up to 20GB to the current directory (/kaggle/working/) that gets preserved as output when you create a version using \"Save & Run All\" \n",
        "# You can also write temporary files to /kaggle/temp/, but they won't be saved outside of the current session"
      ],
      "metadata": {
        "id": "Nl--b5malkbM"
      },
      "execution_count": null,
      "outputs": []
    },
    {
      "cell_type": "code",
      "metadata": {
        "id": "dRmoHcHrKymG"
      },
      "source": [
        "import pandas as pd\n",
        "import numpy as np\n",
        "import matplotlib.pyplot as plt\n",
        "\n",
        "from sklearn.preprocessing import LabelEncoder\n",
        "from sklearn.preprocessing import MinMaxScaler\n",
        "from sklearn.model_selection import train_test_split\n",
        "from imblearn.over_sampling import SMOTE \n",
        "from sklearn.pipeline import Pipeline\n",
        "\n",
        "from sklearn.ensemble import RandomForestClassifier\n",
        "from sklearn.linear_model import LogisticRegression\n",
        "from sklearn.tree import DecisionTreeClassifier\n",
        "from sklearn.svm import SVC\n",
        "from sklearn.neighbors import KNeighborsClassifier\n",
        "from xgboost.sklearn import XGBClassifier\n",
        "\n",
        "\n",
        "from sklearn.model_selection import GridSearchCV, RandomizedSearchCV\n",
        "from sklearn.metrics import f1_score, roc_auc_score, recall_score, precision_score, balanced_accuracy_score, log_loss, confusion_matrix,classification_report"
      ],
      "execution_count": null,
      "outputs": []
    },
    {
      "cell_type": "code",
      "metadata": {
        "id": "-llz3Iwo7n2-"
      },
      "source": [
        "%matplotlib inline\n",
        "np.random.seed(42)\n",
        "plt.rcParams['figure.figsize'] = 6, 6"
      ],
      "execution_count": null,
      "outputs": []
    },
    {
      "cell_type": "code",
      "metadata": {
        "colab": {
          "base_uri": "https://localhost:8080/",
          "height": 400
        },
        "id": "d7pfLDNrKyiy",
        "outputId": "7c8efb87-49e6-4cdb-8868-54e77905b191"
      },
      "source": [
        "df=pd.read_csv('/content/drive/MyDrive/travel insurance.csv')\n",
        "columns_df = list(df.columns)\n",
        "df.head(5)"
      ],
      "execution_count": null,
      "outputs": [
        {
          "output_type": "execute_result",
          "data": {
            "text/html": [
              "<div>\n",
              "<style scoped>\n",
              "    .dataframe tbody tr th:only-of-type {\n",
              "        vertical-align: middle;\n",
              "    }\n",
              "\n",
              "    .dataframe tbody tr th {\n",
              "        vertical-align: top;\n",
              "    }\n",
              "\n",
              "    .dataframe thead th {\n",
              "        text-align: right;\n",
              "    }\n",
              "</style>\n",
              "<table border=\"1\" class=\"dataframe\">\n",
              "  <thead>\n",
              "    <tr style=\"text-align: right;\">\n",
              "      <th></th>\n",
              "      <th>Agency</th>\n",
              "      <th>Agency Type</th>\n",
              "      <th>Distribution Channel</th>\n",
              "      <th>Product Name</th>\n",
              "      <th>Claim</th>\n",
              "      <th>Duration</th>\n",
              "      <th>Destination</th>\n",
              "      <th>Net Sales</th>\n",
              "      <th>Commision (in value)</th>\n",
              "      <th>Gender</th>\n",
              "      <th>Age</th>\n",
              "    </tr>\n",
              "  </thead>\n",
              "  <tbody>\n",
              "    <tr>\n",
              "      <th>0</th>\n",
              "      <td>CBH</td>\n",
              "      <td>Travel Agency</td>\n",
              "      <td>Offline</td>\n",
              "      <td>Comprehensive Plan</td>\n",
              "      <td>No</td>\n",
              "      <td>186</td>\n",
              "      <td>MALAYSIA</td>\n",
              "      <td>-29.0</td>\n",
              "      <td>9.57</td>\n",
              "      <td>F</td>\n",
              "      <td>81</td>\n",
              "    </tr>\n",
              "    <tr>\n",
              "      <th>1</th>\n",
              "      <td>CBH</td>\n",
              "      <td>Travel Agency</td>\n",
              "      <td>Offline</td>\n",
              "      <td>Comprehensive Plan</td>\n",
              "      <td>No</td>\n",
              "      <td>186</td>\n",
              "      <td>MALAYSIA</td>\n",
              "      <td>-29.0</td>\n",
              "      <td>9.57</td>\n",
              "      <td>F</td>\n",
              "      <td>71</td>\n",
              "    </tr>\n",
              "    <tr>\n",
              "      <th>2</th>\n",
              "      <td>CWT</td>\n",
              "      <td>Travel Agency</td>\n",
              "      <td>Online</td>\n",
              "      <td>Rental Vehicle Excess Insurance</td>\n",
              "      <td>No</td>\n",
              "      <td>65</td>\n",
              "      <td>AUSTRALIA</td>\n",
              "      <td>-49.5</td>\n",
              "      <td>29.70</td>\n",
              "      <td>NaN</td>\n",
              "      <td>32</td>\n",
              "    </tr>\n",
              "    <tr>\n",
              "      <th>3</th>\n",
              "      <td>CWT</td>\n",
              "      <td>Travel Agency</td>\n",
              "      <td>Online</td>\n",
              "      <td>Rental Vehicle Excess Insurance</td>\n",
              "      <td>No</td>\n",
              "      <td>60</td>\n",
              "      <td>AUSTRALIA</td>\n",
              "      <td>-39.6</td>\n",
              "      <td>23.76</td>\n",
              "      <td>NaN</td>\n",
              "      <td>32</td>\n",
              "    </tr>\n",
              "    <tr>\n",
              "      <th>4</th>\n",
              "      <td>CWT</td>\n",
              "      <td>Travel Agency</td>\n",
              "      <td>Online</td>\n",
              "      <td>Rental Vehicle Excess Insurance</td>\n",
              "      <td>No</td>\n",
              "      <td>79</td>\n",
              "      <td>ITALY</td>\n",
              "      <td>-19.8</td>\n",
              "      <td>11.88</td>\n",
              "      <td>NaN</td>\n",
              "      <td>41</td>\n",
              "    </tr>\n",
              "  </tbody>\n",
              "</table>\n",
              "</div>"
            ],
            "text/plain": [
              "  Agency    Agency Type Distribution Channel  ... Commision (in value) Gender  Age\n",
              "0    CBH  Travel Agency              Offline  ...                 9.57      F   81\n",
              "1    CBH  Travel Agency              Offline  ...                 9.57      F   71\n",
              "2    CWT  Travel Agency               Online  ...                29.70    NaN   32\n",
              "3    CWT  Travel Agency               Online  ...                23.76    NaN   32\n",
              "4    CWT  Travel Agency               Online  ...                11.88    NaN   41\n",
              "\n",
              "[5 rows x 11 columns]"
            ]
          },
          "metadata": {},
          "execution_count": 3
        }
      ]
    },
    {
      "cell_type": "code",
      "metadata": {
        "id": "K07wJEpYt0Cd"
      },
      "source": [
        "df.rename(columns={ 'Agency Type':'AgencyType', 'Distribution Channel':'DistChannel', 'Product Name':'ProdName',\n",
        "                   'Net Sales':'NetSales', 'Commision (in value)':'Commission'},inplace=True)"
      ],
      "execution_count": null,
      "outputs": []
    },
    {
      "cell_type": "code",
      "metadata": {
        "colab": {
          "base_uri": "https://localhost:8080/"
        },
        "id": "0Kzhho04KyTT",
        "outputId": "eedd0a24-8e1c-4ff6-818b-331b31dfe36d"
      },
      "source": [
        "print(df.info())\n",
        "print(df.describe())\n",
        "print(df.shape)"
      ],
      "execution_count": null,
      "outputs": [
        {
          "output_type": "stream",
          "name": "stdout",
          "text": [
            "<class 'pandas.core.frame.DataFrame'>\n",
            "RangeIndex: 63326 entries, 0 to 63325\n",
            "Data columns (total 11 columns):\n",
            " #   Column       Non-Null Count  Dtype  \n",
            "---  ------       --------------  -----  \n",
            " 0   Agency       63326 non-null  object \n",
            " 1   AgencyType   63326 non-null  object \n",
            " 2   DistChannel  63326 non-null  object \n",
            " 3   ProdName     63326 non-null  object \n",
            " 4   Claim        63326 non-null  object \n",
            " 5   Duration     63326 non-null  int64  \n",
            " 6   Destination  63326 non-null  object \n",
            " 7   NetSales     63326 non-null  float64\n",
            " 8   Commission   63326 non-null  float64\n",
            " 9   Gender       18219 non-null  object \n",
            " 10  Age          63326 non-null  int64  \n",
            "dtypes: float64(2), int64(2), object(7)\n",
            "memory usage: 5.3+ MB\n",
            "None\n",
            "           Duration      NetSales    Commission           Age\n",
            "count  63326.000000  63326.000000  63326.000000  63326.000000\n",
            "mean      49.317074     40.702018      9.809992     39.969981\n",
            "std      101.791566     48.845637     19.804388     14.017010\n",
            "min       -2.000000   -389.000000      0.000000      0.000000\n",
            "25%        9.000000     18.000000      0.000000     35.000000\n",
            "50%       22.000000     26.530000      0.000000     36.000000\n",
            "75%       53.000000     48.000000     11.550000     43.000000\n",
            "max     4881.000000    810.000000    283.500000    118.000000\n",
            "(63326, 11)\n"
          ]
        }
      ]
    },
    {
      "cell_type": "code",
      "metadata": {
        "id": "vZPygRGvMo5K"
      },
      "source": [
        "df_cat=['Agency','AgencyType','DistChannel','ProdName','Destination']"
      ],
      "execution_count": null,
      "outputs": []
    },
    {
      "cell_type": "code",
      "metadata": {
        "colab": {
          "base_uri": "https://localhost:8080/"
        },
        "id": "xbRMwKkTPQfw",
        "outputId": "bc9afa5d-274f-4015-8b89-9d9e338f2ea9"
      },
      "source": [
        "for k in df_cat:\n",
        "  print(k,':',df[k].unique())"
      ],
      "execution_count": null,
      "outputs": [
        {
          "output_type": "stream",
          "name": "stdout",
          "text": [
            "Agency : ['CBH' 'CWT' 'JZI' 'KML' 'EPX' 'C2B' 'JWT' 'RAB' 'SSI' 'ART' 'CSR' 'CCR'\n",
            " 'ADM' 'LWC' 'TTW' 'TST']\n",
            "AgencyType : ['Travel Agency' 'Airlines']\n",
            "DistChannel : ['Offline' 'Online']\n",
            "ProdName : ['Comprehensive Plan' 'Rental Vehicle Excess Insurance' 'Value Plan'\n",
            " 'Basic Plan' 'Premier Plan' '2 way Comprehensive Plan' 'Bronze Plan'\n",
            " 'Silver Plan' 'Annual Silver Plan' 'Cancellation Plan'\n",
            " '1 way Comprehensive Plan' 'Ticket Protector' '24 Protect' 'Gold Plan'\n",
            " 'Annual Gold Plan' 'Single Trip Travel Protect Silver'\n",
            " 'Individual Comprehensive Plan' 'Spouse or Parents Comprehensive Plan'\n",
            " 'Annual Travel Protect Silver' 'Single Trip Travel Protect Platinum'\n",
            " 'Annual Travel Protect Gold' 'Single Trip Travel Protect Gold'\n",
            " 'Annual Travel Protect Platinum' 'Child Comprehensive Plan'\n",
            " 'Travel Cruise Protect' 'Travel Cruise Protect Family']\n",
            "Destination : ['MALAYSIA' 'AUSTRALIA' 'ITALY' 'UNITED STATES' 'THAILAND'\n",
            " \"KOREA, DEMOCRATIC PEOPLE'S REPUBLIC OF\" 'NORWAY' 'VIET NAM' 'DENMARK'\n",
            " 'SINGAPORE' 'JAPAN' 'UNITED KINGDOM' 'INDONESIA' 'INDIA' 'CHINA' 'FRANCE'\n",
            " 'TAIWAN, PROVINCE OF CHINA' 'PHILIPPINES' 'MYANMAR' 'HONG KONG'\n",
            " 'KOREA, REPUBLIC OF' 'UNITED ARAB EMIRATES' 'NAMIBIA' 'NEW ZEALAND'\n",
            " 'COSTA RICA' 'BRUNEI DARUSSALAM' 'POLAND' 'SPAIN' 'CZECH REPUBLIC'\n",
            " 'GERMANY' 'SRI LANKA' 'CAMBODIA' 'AUSTRIA' 'SOUTH AFRICA'\n",
            " 'TANZANIA, UNITED REPUBLIC OF' \"LAO PEOPLE'S DEMOCRATIC REPUBLIC\" 'NEPAL'\n",
            " 'NETHERLANDS' 'MACAO' 'CROATIA' 'FINLAND' 'CANADA' 'TUNISIA'\n",
            " 'RUSSIAN FEDERATION' 'GREECE' 'BELGIUM' 'IRELAND' 'SWITZERLAND' 'CHILE'\n",
            " 'ISRAEL' 'BANGLADESH' 'ICELAND' 'PORTUGAL' 'ROMANIA' 'KENYA' 'GEORGIA'\n",
            " 'TURKEY' 'SWEDEN' 'MALDIVES' 'ESTONIA' 'SAUDI ARABIA' 'PAKISTAN' 'QATAR'\n",
            " 'PERU' 'LUXEMBOURG' 'MONGOLIA' 'ARGENTINA' 'CYPRUS' 'FIJI' 'BARBADOS'\n",
            " 'TRINIDAD AND TOBAGO' 'ETHIOPIA' 'PAPUA NEW GUINEA' 'SERBIA' 'JORDAN'\n",
            " 'ECUADOR' 'BENIN' 'OMAN' 'BAHRAIN' 'UGANDA' 'BRAZIL' 'MEXICO' 'HUNGARY'\n",
            " 'AZERBAIJAN' 'MOROCCO' 'URUGUAY' 'MAURITIUS' 'JAMAICA' 'KAZAKHSTAN'\n",
            " 'GHANA' 'UZBEKISTAN' 'SLOVENIA' 'KUWAIT' 'GUAM' 'BULGARIA' 'LITHUANIA'\n",
            " 'NEW CALEDONIA' 'EGYPT' 'ARMENIA' 'BOLIVIA' 'VIRGIN ISLANDS, U.S.'\n",
            " 'PANAMA' 'SIERRA LEONE' 'COLOMBIA' 'PUERTO RICO' 'UKRAINE' 'GUINEA'\n",
            " 'GUADELOUPE' 'MOLDOVA, REPUBLIC OF' 'GUYANA' 'LATVIA' 'ZIMBABWE'\n",
            " 'VANUATU' 'VENEZUELA' 'BOTSWANA' 'BERMUDA' 'MALI' 'KYRGYZSTAN'\n",
            " 'CAYMAN ISLANDS' 'MALTA' 'LEBANON' 'REUNION' 'SEYCHELLES' 'ZAMBIA'\n",
            " 'SAMOA' 'NORTHERN MARIANA ISLANDS' 'NIGERIA' 'DOMINICAN REPUBLIC'\n",
            " 'TAJIKISTAN' 'ALBANIA' 'MACEDONIA, THE FORMER YUGOSLAV REPUBLIC OF'\n",
            " 'LIBYAN ARAB JAMAHIRIYA' 'ANGOLA' 'BELARUS' 'TURKS AND CAICOS ISLANDS'\n",
            " 'FAROE ISLANDS' 'TURKMENISTAN' 'GUINEA-BISSAU' 'CAMEROON' 'BHUTAN'\n",
            " 'RWANDA' 'SOLOMON ISLANDS' 'IRAN, ISLAMIC REPUBLIC OF' 'GUATEMALA'\n",
            " 'FRENCH POLYNESIA' 'TIBET' 'SENEGAL' 'REPUBLIC OF MONTENEGRO'\n",
            " 'BOSNIA AND HERZEGOVINA']\n"
          ]
        }
      ]
    },
    {
      "cell_type": "code",
      "metadata": {
        "colab": {
          "base_uri": "https://localhost:8080/"
        },
        "id": "XpC0soGKKyWe",
        "outputId": "8508278a-c8a2-4e9e-b328-775f6cf5ad6c"
      },
      "source": [
        "print(df['Gender'].isnull().sum())\n",
        "df.drop(columns=['Gender'],inplace=True)"
      ],
      "execution_count": null,
      "outputs": [
        {
          "output_type": "stream",
          "name": "stdout",
          "text": [
            "45107\n"
          ]
        }
      ]
    },
    {
      "cell_type": "code",
      "metadata": {
        "id": "Roul2yXDlxAP"
      },
      "source": [
        "df['NetSales'] = df['NetSales'].apply(lambda x: 0 if x<0 else x)"
      ],
      "execution_count": null,
      "outputs": []
    },
    {
      "cell_type": "code",
      "metadata": {
        "id": "TuMIvMT5oUQK"
      },
      "source": [
        "df['Duration'] = df['Duration'].apply(lambda x: 0 if x<0 else x)"
      ],
      "execution_count": null,
      "outputs": []
    },
    {
      "cell_type": "code",
      "metadata": {
        "colab": {
          "base_uri": "https://localhost:8080/",
          "height": 300
        },
        "id": "YVWQP38RoUS3",
        "outputId": "f65e7840-dc0e-48e3-a857-7a368d43f0d1"
      },
      "source": [
        "df.describe()"
      ],
      "execution_count": null,
      "outputs": [
        {
          "output_type": "execute_result",
          "data": {
            "text/html": [
              "<div>\n",
              "<style scoped>\n",
              "    .dataframe tbody tr th:only-of-type {\n",
              "        vertical-align: middle;\n",
              "    }\n",
              "\n",
              "    .dataframe tbody tr th {\n",
              "        vertical-align: top;\n",
              "    }\n",
              "\n",
              "    .dataframe thead th {\n",
              "        text-align: right;\n",
              "    }\n",
              "</style>\n",
              "<table border=\"1\" class=\"dataframe\">\n",
              "  <thead>\n",
              "    <tr style=\"text-align: right;\">\n",
              "      <th></th>\n",
              "      <th>Duration</th>\n",
              "      <th>NetSales</th>\n",
              "      <th>Commission</th>\n",
              "      <th>Age</th>\n",
              "    </tr>\n",
              "  </thead>\n",
              "  <tbody>\n",
              "    <tr>\n",
              "      <th>count</th>\n",
              "      <td>63326.000000</td>\n",
              "      <td>63326.000000</td>\n",
              "      <td>63326.000000</td>\n",
              "      <td>63326.000000</td>\n",
              "    </tr>\n",
              "    <tr>\n",
              "      <th>mean</th>\n",
              "      <td>49.317168</td>\n",
              "      <td>41.354641</td>\n",
              "      <td>9.809992</td>\n",
              "      <td>39.969981</td>\n",
              "    </tr>\n",
              "    <tr>\n",
              "      <th>std</th>\n",
              "      <td>101.791520</td>\n",
              "      <td>47.573420</td>\n",
              "      <td>19.804388</td>\n",
              "      <td>14.017010</td>\n",
              "    </tr>\n",
              "    <tr>\n",
              "      <th>min</th>\n",
              "      <td>0.000000</td>\n",
              "      <td>0.000000</td>\n",
              "      <td>0.000000</td>\n",
              "      <td>0.000000</td>\n",
              "    </tr>\n",
              "    <tr>\n",
              "      <th>25%</th>\n",
              "      <td>9.000000</td>\n",
              "      <td>18.000000</td>\n",
              "      <td>0.000000</td>\n",
              "      <td>35.000000</td>\n",
              "    </tr>\n",
              "    <tr>\n",
              "      <th>50%</th>\n",
              "      <td>22.000000</td>\n",
              "      <td>26.530000</td>\n",
              "      <td>0.000000</td>\n",
              "      <td>36.000000</td>\n",
              "    </tr>\n",
              "    <tr>\n",
              "      <th>75%</th>\n",
              "      <td>53.000000</td>\n",
              "      <td>48.000000</td>\n",
              "      <td>11.550000</td>\n",
              "      <td>43.000000</td>\n",
              "    </tr>\n",
              "    <tr>\n",
              "      <th>max</th>\n",
              "      <td>4881.000000</td>\n",
              "      <td>810.000000</td>\n",
              "      <td>283.500000</td>\n",
              "      <td>118.000000</td>\n",
              "    </tr>\n",
              "  </tbody>\n",
              "</table>\n",
              "</div>"
            ],
            "text/plain": [
              "           Duration      NetSales    Commission           Age\n",
              "count  63326.000000  63326.000000  63326.000000  63326.000000\n",
              "mean      49.317168     41.354641      9.809992     39.969981\n",
              "std      101.791520     47.573420     19.804388     14.017010\n",
              "min        0.000000      0.000000      0.000000      0.000000\n",
              "25%        9.000000     18.000000      0.000000     35.000000\n",
              "50%       22.000000     26.530000      0.000000     36.000000\n",
              "75%       53.000000     48.000000     11.550000     43.000000\n",
              "max     4881.000000    810.000000    283.500000    118.000000"
            ]
          },
          "metadata": {},
          "execution_count": 11
        }
      ]
    },
    {
      "cell_type": "markdown",
      "metadata": {
        "id": "1dkNhf1NvxtP"
      },
      "source": [
        "Data Cleaning\n"
      ]
    },
    {
      "cell_type": "code",
      "metadata": {
        "id": "GWj626xavw-M"
      },
      "source": [
        "df1=df.groupby(by=[\"Destination\"]).size().reset_index(name=\"counts\")\n",
        "df1=df1.nlargest(20,['counts'])\n",
        "dest_top = list(df1['Destination'])\n",
        "df['Destination'] = df['Destination'].apply(lambda x: \"OTHERS\" if x not in dest_top else x)"
      ],
      "execution_count": null,
      "outputs": []
    },
    {
      "cell_type": "code",
      "metadata": {
        "colab": {
          "base_uri": "https://localhost:8080/"
        },
        "id": "svfi1rGLvwyz",
        "outputId": "32446c45-fba0-4ac0-c8ac-fa62418ed2d9"
      },
      "source": [
        "df['Destination'].unique()"
      ],
      "execution_count": null,
      "outputs": [
        {
          "output_type": "execute_result",
          "data": {
            "text/plain": [
              "array(['MALAYSIA', 'AUSTRALIA', 'OTHERS', 'UNITED STATES', 'THAILAND',\n",
              "       'VIET NAM', 'SINGAPORE', 'JAPAN', 'UNITED KINGDOM', 'INDONESIA',\n",
              "       'INDIA', 'CHINA', 'TAIWAN, PROVINCE OF CHINA', 'PHILIPPINES',\n",
              "       'MYANMAR', 'HONG KONG', 'KOREA, REPUBLIC OF', 'NEW ZEALAND',\n",
              "       'BRUNEI DARUSSALAM', 'CAMBODIA', 'CANADA'], dtype=object)"
            ]
          },
          "metadata": {},
          "execution_count": 13
        }
      ]
    },
    {
      "cell_type": "code",
      "metadata": {
        "colab": {
          "base_uri": "https://localhost:8080/"
        },
        "id": "_ZF6YT--3Dqx",
        "outputId": "ffed342d-610a-4c66-c21a-099b7dc4ee10"
      },
      "source": [
        "df.columns"
      ],
      "execution_count": null,
      "outputs": [
        {
          "output_type": "execute_result",
          "data": {
            "text/plain": [
              "Index(['Agency', 'AgencyType', 'DistChannel', 'ProdName', 'Claim', 'Duration',\n",
              "       'Destination', 'NetSales', 'Commission', 'Age'],\n",
              "      dtype='object')"
            ]
          },
          "metadata": {},
          "execution_count": 14
        }
      ]
    },
    {
      "cell_type": "code",
      "metadata": {
        "colab": {
          "base_uri": "https://localhost:8080/",
          "height": 174
        },
        "id": "VD-4nSQOS4VY",
        "outputId": "a302affe-7212-4762-ae45-f3cb2ac294b6"
      },
      "source": [
        "df.corr()"
      ],
      "execution_count": null,
      "outputs": [
        {
          "output_type": "execute_result",
          "data": {
            "text/html": [
              "<div>\n",
              "<style scoped>\n",
              "    .dataframe tbody tr th:only-of-type {\n",
              "        vertical-align: middle;\n",
              "    }\n",
              "\n",
              "    .dataframe tbody tr th {\n",
              "        vertical-align: top;\n",
              "    }\n",
              "\n",
              "    .dataframe thead th {\n",
              "        text-align: right;\n",
              "    }\n",
              "</style>\n",
              "<table border=\"1\" class=\"dataframe\">\n",
              "  <thead>\n",
              "    <tr style=\"text-align: right;\">\n",
              "      <th></th>\n",
              "      <th>Duration</th>\n",
              "      <th>NetSales</th>\n",
              "      <th>Commission</th>\n",
              "      <th>Age</th>\n",
              "    </tr>\n",
              "  </thead>\n",
              "  <tbody>\n",
              "    <tr>\n",
              "      <th>Duration</th>\n",
              "      <td>1.000000</td>\n",
              "      <td>0.450057</td>\n",
              "      <td>0.344772</td>\n",
              "      <td>0.002474</td>\n",
              "    </tr>\n",
              "    <tr>\n",
              "      <th>NetSales</th>\n",
              "      <td>0.450057</td>\n",
              "      <td>1.000000</td>\n",
              "      <td>0.690139</td>\n",
              "      <td>0.039136</td>\n",
              "    </tr>\n",
              "    <tr>\n",
              "      <th>Commission</th>\n",
              "      <td>0.344772</td>\n",
              "      <td>0.690139</td>\n",
              "      <td>1.000000</td>\n",
              "      <td>0.118348</td>\n",
              "    </tr>\n",
              "    <tr>\n",
              "      <th>Age</th>\n",
              "      <td>0.002474</td>\n",
              "      <td>0.039136</td>\n",
              "      <td>0.118348</td>\n",
              "      <td>1.000000</td>\n",
              "    </tr>\n",
              "  </tbody>\n",
              "</table>\n",
              "</div>"
            ],
            "text/plain": [
              "            Duration  NetSales  Commission       Age\n",
              "Duration    1.000000  0.450057    0.344772  0.002474\n",
              "NetSales    0.450057  1.000000    0.690139  0.039136\n",
              "Commission  0.344772  0.690139    1.000000  0.118348\n",
              "Age         0.002474  0.039136    0.118348  1.000000"
            ]
          },
          "metadata": {},
          "execution_count": 15
        }
      ]
    },
    {
      "cell_type": "code",
      "metadata": {
        "colab": {
          "base_uri": "https://localhost:8080/",
          "height": 391
        },
        "id": "-qkKiSImiiHz",
        "outputId": "dfef8de2-bf07-49d9-b17f-b5cc9618b072"
      },
      "source": [
        "plt.scatter(x=df['NetSales'],y=df['Commission'],marker='*')"
      ],
      "execution_count": null,
      "outputs": [
        {
          "output_type": "execute_result",
          "data": {
            "text/plain": [
              "<matplotlib.collections.PathCollection at 0x7fd640e0ac10>"
            ]
          },
          "metadata": {},
          "execution_count": 16
        },
        {
          "output_type": "display_data",
          "data": {
            "image/png": "[encoded data removed]",
            "text/plain": [
              "<Figure size 432x432 with 1 Axes>"
            ]
          },
          "metadata": {
            "needs_background": "light"
          }
        }
      ]
    },
    {
      "cell_type": "code",
      "metadata": {
        "colab": {
          "base_uri": "https://localhost:8080/",
          "height": 403
        },
        "id": "mQWuBCfnK9iK",
        "outputId": "40d46dbb-4159-4716-c897-4eb5404d9a83"
      },
      "source": [
        "df['Agency'].value_counts().plot(kind='bar',color='purple')\n",
        "plt.title('Top agencies for insurance')\n",
        "plt.show()"
      ],
      "execution_count": null,
      "outputs": [
        {
          "output_type": "display_data",
          "data": {
            "image/png": "[encoded data removed]",
            "text/plain": [
              "<Figure size 432x432 with 1 Axes>"
            ]
          },
          "metadata": {
            "needs_background": "light"
          }
        }
      ]
    },
    {
      "cell_type": "code",
      "metadata": {
        "colab": {
          "base_uri": "https://localhost:8080/",
          "height": 413
        },
        "id": "qR9IU5gQDbDf",
        "outputId": "58a470d0-0cf7-4304-8ef0-dea76c7760e1"
      },
      "source": [
        "df['DistChannel'].value_counts().plot(kind='bar',color='lightseagreen')\n",
        "plt.title(\"Mode of Distribution Channel\")\n",
        "plt.show()"
      ],
      "execution_count": null,
      "outputs": [
        {
          "output_type": "display_data",
          "data": {
            "image/png": "[encoded data removed]",
            "text/plain": [
              "<Figure size 432x432 with 1 Axes>"
            ]
          },
          "metadata": {
            "needs_background": "light"
          }
        }
      ]
    },
    {
      "cell_type": "code",
      "metadata": {
        "colab": {
          "base_uri": "https://localhost:8080/",
          "height": 390
        },
        "id": "0uTaSS9VDmz4",
        "outputId": "16426a44-6550-43b6-9b73-73cefc22e8c3"
      },
      "source": [
        "plt.hist(df['Age'],bins=20,color='limegreen')\n",
        "plt.title(\"Insurance across age groups\")\n",
        "plt.show()"
      ],
      "execution_count": null,
      "outputs": [
        {
          "output_type": "display_data",
          "data": {
            "image/png": "[encoded data removed]",
            "text/plain": [
              "<Figure size 432x432 with 1 Axes>"
            ]
          },
          "metadata": {
            "needs_background": "light"
          }
        }
      ]
    },
    {
      "cell_type": "code",
      "metadata": {
        "colab": {
          "base_uri": "https://localhost:8080/",
          "height": 396
        },
        "id": "g83I0zbmDeUH",
        "outputId": "c897879e-00c9-4982-fa62-f9d7e7343e21"
      },
      "source": [
        "df['Claim'].value_counts()[:].plot(kind='bar',color='tomato')\n",
        "plt.title('Insurance Claimed')\n",
        "plt.show()"
      ],
      "execution_count": null,
      "outputs": [
        {
          "output_type": "display_data",
          "data": {
            "image/png": "[encoded data removed]",
            "text/plain": [
              "<Figure size 432x432 with 1 Axes>"
            ]
          },
          "metadata": {
            "needs_background": "light"
          }
        }
      ]
    },
    {
      "cell_type": "code",
      "metadata": {
        "colab": {
          "base_uri": "https://localhost:8080/",
          "height": 373
        },
        "id": "aHDKKGRZ6bq1",
        "outputId": "4044bc92-79a8-44da-8168-4d3d5f94890d"
      },
      "source": [
        "plt.pie(x=df1['counts'],labels=df1['Destination'],autopct='%1.1f%%')\n",
        "plt.title('Share of countries in insurance')\n",
        "plt.show()"
      ],
      "execution_count": null,
      "outputs": [
        {
          "output_type": "display_data",
          "data": {
            "image/png": "[encoded data removed]",
            "text/plain": [
              "<Figure size 432x432 with 1 Axes>"
            ]
          },
          "metadata": {}
        }
      ]
    },
    {
      "cell_type": "code",
      "metadata": {
        "colab": {
          "base_uri": "https://localhost:8080/",
          "height": 369
        },
        "id": "FhOK4NKnBAIB",
        "outputId": "f05089fc-15fe-4e33-af81-8491bced2e24"
      },
      "source": [
        "df2=df.groupby(by=[\"ProdName\"]).size().reset_index(name=\"counts\")\n",
        "df2=df2.nlargest(10,['counts'])\n",
        "plt.pie(x=df2['counts'],labels=df2['ProdName'],autopct='%1.1f%%')\n",
        "plt.title('Type of insurance plans')\n",
        "plt.show()"
      ],
      "execution_count": null,
      "outputs": [
        {
          "output_type": "display_data",
          "data": {
            "image/png": "[encoded data removed]",
            "text/plain": [
              "<Figure size 432x432 with 1 Axes>"
            ]
          },
          "metadata": {}
        }
      ]
    },
    {
      "cell_type": "code",
      "metadata": {
        "colab": {
          "base_uri": "https://localhost:8080/",
          "height": 336
        },
        "id": "nqH_NRZIFBji",
        "outputId": "420f745d-e8f7-4e15-f8fe-3b0e5e634544"
      },
      "source": [
        "dfplot=df.groupby(by=['Agency']).mean().reset_index()\n",
        "plt.figure(figsize=(12, 5))\n",
        "plt.bar(dfplot['Agency'],dfplot['NetSales'],color='sandybrown')\n",
        "plt.title('Average sales across agencies')\n",
        "plt.show()"
      ],
      "execution_count": null,
      "outputs": [
        {
          "output_type": "display_data",
          "data": {
            "image/png": "[encoded data removed]",
            "text/plain": [
              "<Figure size 864x360 with 1 Axes>"
            ]
          },
          "metadata": {
            "needs_background": "light"
          }
        }
      ]
    },
    {
      "cell_type": "code",
      "metadata": {
        "colab": {
          "base_uri": "https://localhost:8080/",
          "height": 390
        },
        "id": "nEkRLG-SpLh8",
        "outputId": "a0ccc921-e3ac-495e-a937-3e59c48e9963"
      },
      "source": [
        "dfclaimed=df[df['Claim']==\"Yes\"]\n",
        "dfplot=dfclaimed.groupby(by=[\"Agency\"]).size().reset_index(name=\"counts\")\n",
        "plt.bar(dfplot['Agency'],dfplot['counts'],color='deeppink')\n",
        "plt.title(\"Agencies with claimed insurances\")\n",
        "plt.show()"
      ],
      "execution_count": null,
      "outputs": [
        {
          "output_type": "display_data",
          "data": {
            "image/png": "[encoded data removed]",
            "text/plain": [
              "<Figure size 432x432 with 1 Axes>"
            ]
          },
          "metadata": {
            "needs_background": "light"
          }
        }
      ]
    },
    {
      "cell_type": "code",
      "metadata": {
        "colab": {
          "base_uri": "https://localhost:8080/",
          "height": 336
        },
        "id": "1uKE9S2Ppmiy",
        "outputId": "c3d80317-5b07-489c-d6bc-64152a0cbd1f"
      },
      "source": [
        "dfplot=dfclaimed.groupby(by=['ProdName']).size().reset_index(name=\"counts\")\n",
        "dfplot=dfplot.nlargest(5,['counts'])\n",
        "plt.figure(figsize=(12, 5))\n",
        "plt.bar(dfplot['ProdName'],dfplot['counts'],color='slategray')\n",
        "plt.title('Insurance plans ranked by number of claims')\n",
        "plt.show()"
      ],
      "execution_count": null,
      "outputs": [
        {
          "output_type": "display_data",
          "data": {
            "image/png": "[encoded data removed]",
            "text/plain": [
              "<Figure size 864x360 with 1 Axes>"
            ]
          },
          "metadata": {
            "needs_background": "light"
          }
        }
      ]
    },
    {
      "cell_type": "code",
      "metadata": {
        "colab": {
          "base_uri": "https://localhost:8080/",
          "height": 281
        },
        "id": "g29wPbWGAe3m",
        "outputId": "8e8a24b1-93a9-47f7-95a6-62ef9403def6"
      },
      "source": [
        "dfplot=dfclaimed.groupby(by=['AgencyType']).size().reset_index(name=\"counts\")\n",
        "dfplot=dfplot.nlargest(10,['counts'])\n",
        "plt.figure(figsize=(4, 4))\n",
        "plt.bar(dfplot['AgencyType'],dfplot['counts'],color='lightcoral')\n",
        "plt.title('Type of agency against number of claims')\n",
        "plt.show()"
      ],
      "execution_count": null,
      "outputs": [
        {
          "output_type": "display_data",
          "data": {
            "image/png": "[encoded data removed]",
            "text/plain": [
              "<Figure size 288x288 with 1 Axes>"
            ]
          },
          "metadata": {
            "needs_background": "light"
          }
        }
      ]
    },
    {
      "cell_type": "code",
      "metadata": {
        "colab": {
          "base_uri": "https://localhost:8080/",
          "height": 206
        },
        "id": "ZuNaibMXFnzq",
        "outputId": "3c304c92-7d6c-41aa-adca-3a8daba7eae1"
      },
      "source": [
        "dfplot=dfclaimed.groupby(by=['Destination']).size().reset_index(name=\"counts\")\n",
        "dfplot=dfplot.nlargest(10,['counts'])\n",
        "plt.figure(figsize=(15, 4))\n",
        "plt.bar(dfplot['Destination'],dfplot['counts'],color='olivedrab')\n",
        "plt.title('Countries ranked on number of claims')\n",
        "plt.show()"
      ],
      "execution_count": null,
      "outputs": [
        {
          "output_type": "display_data",
          "data": {
            "image/png": "[encoded data removed]",
            "text/plain": [
              "<Figure size 1080x288 with 1 Axes>"
            ]
          },
          "metadata": {
            "needs_background": "light"
          }
        }
      ]
    },
    {
      "cell_type": "code",
      "metadata": {
        "colab": {
          "base_uri": "https://localhost:8080/",
          "height": 513
        },
        "id": "don36LZcJbUq",
        "outputId": "d11b3b6f-f529-41b3-ea8c-f6efa1a7fd47"
      },
      "source": [
        "df.drop(df[df['Duration']>700].index,inplace=True)\n",
        "plt.boxplot(df['Duration'])"
      ],
      "execution_count": null,
      "outputs": [
        {
          "output_type": "execute_result",
          "data": {
            "text/plain": [
              "{'boxes': [<matplotlib.lines.Line2D at 0x7fd640777250>],\n",
              " 'caps': [<matplotlib.lines.Line2D at 0x7fd640780290>,\n",
              "  <matplotlib.lines.Line2D at 0x7fd640780fd0>],\n",
              " 'fliers': [<matplotlib.lines.Line2D at 0x7fd640d20410>],\n",
              " 'means': [],\n",
              " 'medians': [<matplotlib.lines.Line2D at 0x7fd640d20210>],\n",
              " 'whiskers': [<matplotlib.lines.Line2D at 0x7fd640777590>,\n",
              "  <matplotlib.lines.Line2D at 0x7fd640777990>]}"
            ]
          },
          "metadata": {},
          "execution_count": 28
        },
        {
          "output_type": "display_data",
          "data": {
            "image/png": "[encoded data removed]",
            "text/plain": [
              "<Figure size 432x432 with 1 Axes>"
            ]
          },
          "metadata": {
            "needs_background": "light"
          }
        }
      ]
    },
    {
      "cell_type": "markdown",
      "metadata": {
        "id": "TmbyFsgfFLud"
      },
      "source": [
        "Data Preprocessing"
      ]
    },
    {
      "cell_type": "code",
      "metadata": {
        "id": "Jz_U0jMeajYx"
      },
      "source": [
        "le_agency= LabelEncoder()\n",
        "df['Agency'] = le_agency.fit_transform(df['Agency'])\n",
        "\n",
        "le_agtype= LabelEncoder()\n",
        "df['AgencyType'] = le_agency.fit_transform(df['AgencyType'])\n",
        "\n",
        "le_dchannel= LabelEncoder()\n",
        "df['DistChannel'] = le_agency.fit_transform(df['DistChannel'])\n",
        "\n",
        "le_prodname= LabelEncoder()\n",
        "df['ProdName'] = le_agency.fit_transform(df['ProdName'])\n",
        "\n",
        "le_dest= LabelEncoder()\n",
        "df['Destination'] = le_dest.fit_transform(df['Destination'])\n",
        "\n",
        "le_claim= LabelEncoder()\n",
        "df['Claim'] = le_claim.fit_transform(df['Claim'])"
      ],
      "execution_count": null,
      "outputs": []
    },
    {
      "cell_type": "code",
      "metadata": {
        "colab": {
          "base_uri": "https://localhost:8080/",
          "height": 226
        },
        "id": "wsQLqCqcE8xy",
        "outputId": "4045055a-5cf7-4054-aabd-a8505e3cd7b6"
      },
      "source": [
        "df.head(5)"
      ],
      "execution_count": null,
      "outputs": [
        {
          "output_type": "execute_result",
          "data": {
            "text/html": [
              "<div>\n",
              "<style scoped>\n",
              "    .dataframe tbody tr th:only-of-type {\n",
              "        vertical-align: middle;\n",
              "    }\n",
              "\n",
              "    .dataframe tbody tr th {\n",
              "        vertical-align: top;\n",
              "    }\n",
              "\n",
              "    .dataframe thead th {\n",
              "        text-align: right;\n",
              "    }\n",
              "</style>\n",
              "<table border=\"1\" class=\"dataframe\">\n",
              "  <thead>\n",
              "    <tr style=\"text-align: right;\">\n",
              "      <th></th>\n",
              "      <th>Agency</th>\n",
              "      <th>AgencyType</th>\n",
              "      <th>DistChannel</th>\n",
              "      <th>ProdName</th>\n",
              "      <th>Claim</th>\n",
              "      <th>Duration</th>\n",
              "      <th>Destination</th>\n",
              "      <th>NetSales</th>\n",
              "      <th>Commission</th>\n",
              "      <th>Age</th>\n",
              "    </tr>\n",
              "  </thead>\n",
              "  <tbody>\n",
              "    <tr>\n",
              "      <th>0</th>\n",
              "      <td>3</td>\n",
              "      <td>1</td>\n",
              "      <td>0</td>\n",
              "      <td>12</td>\n",
              "      <td>0</td>\n",
              "      <td>186</td>\n",
              "      <td>10</td>\n",
              "      <td>0.0</td>\n",
              "      <td>9.57</td>\n",
              "      <td>81</td>\n",
              "    </tr>\n",
              "    <tr>\n",
              "      <th>1</th>\n",
              "      <td>3</td>\n",
              "      <td>1</td>\n",
              "      <td>0</td>\n",
              "      <td>12</td>\n",
              "      <td>0</td>\n",
              "      <td>186</td>\n",
              "      <td>10</td>\n",
              "      <td>0.0</td>\n",
              "      <td>9.57</td>\n",
              "      <td>71</td>\n",
              "    </tr>\n",
              "    <tr>\n",
              "      <th>2</th>\n",
              "      <td>6</td>\n",
              "      <td>1</td>\n",
              "      <td>1</td>\n",
              "      <td>16</td>\n",
              "      <td>0</td>\n",
              "      <td>65</td>\n",
              "      <td>0</td>\n",
              "      <td>0.0</td>\n",
              "      <td>29.70</td>\n",
              "      <td>32</td>\n",
              "    </tr>\n",
              "    <tr>\n",
              "      <th>3</th>\n",
              "      <td>6</td>\n",
              "      <td>1</td>\n",
              "      <td>1</td>\n",
              "      <td>16</td>\n",
              "      <td>0</td>\n",
              "      <td>60</td>\n",
              "      <td>0</td>\n",
              "      <td>0.0</td>\n",
              "      <td>23.76</td>\n",
              "      <td>32</td>\n",
              "    </tr>\n",
              "    <tr>\n",
              "      <th>4</th>\n",
              "      <td>6</td>\n",
              "      <td>1</td>\n",
              "      <td>1</td>\n",
              "      <td>16</td>\n",
              "      <td>0</td>\n",
              "      <td>79</td>\n",
              "      <td>13</td>\n",
              "      <td>0.0</td>\n",
              "      <td>11.88</td>\n",
              "      <td>41</td>\n",
              "    </tr>\n",
              "  </tbody>\n",
              "</table>\n",
              "</div>"
            ],
            "text/plain": [
              "   Agency  AgencyType  DistChannel  ...  NetSales  Commission  Age\n",
              "0       3           1            0  ...       0.0        9.57   81\n",
              "1       3           1            0  ...       0.0        9.57   71\n",
              "2       6           1            1  ...       0.0       29.70   32\n",
              "3       6           1            1  ...       0.0       23.76   32\n",
              "4       6           1            1  ...       0.0       11.88   41\n",
              "\n",
              "[5 rows x 10 columns]"
            ]
          },
          "metadata": {},
          "execution_count": 30
        }
      ]
    },
    {
      "cell_type": "code",
      "metadata": {
        "id": "2uaDw_aTE8uX"
      },
      "source": [
        "X=df.drop(columns='Claim',inplace=False)\n",
        "y=df['Claim']"
      ],
      "execution_count": null,
      "outputs": []
    },
    {
      "cell_type": "code",
      "metadata": {
        "colab": {
          "base_uri": "https://localhost:8080/"
        },
        "id": "Ho78J-4H1o1V",
        "outputId": "59de8ef2-d948-43e8-804c-de6c5dee6059"
      },
      "source": [
        "sm = SMOTE(random_state=42)\n",
        "Xb, yb = sm.fit_resample(X, y)\n",
        "print(f'''Shape of X before SMOTE: {X.shape}\n",
        "Shape of X after SMOTE: {Xb.shape}''')\n",
        "print('\\nBalance of positive and negative classes (%):')\n",
        "yb.value_counts(normalize=True) * 100"
      ],
      "execution_count": null,
      "outputs": [
        {
          "output_type": "stream",
          "name": "stdout",
          "text": [
            "Shape of X before SMOTE: (63311, 9)\n",
            "Shape of X after SMOTE: (124768, 9)\n",
            "\n",
            "Balance of positive and negative classes (%):\n"
          ]
        },
        {
          "output_type": "execute_result",
          "data": {
            "text/plain": [
              "1    50.0\n",
              "0    50.0\n",
              "Name: Claim, dtype: float64"
            ]
          },
          "metadata": {},
          "execution_count": 32
        }
      ]
    },
    {
      "cell_type": "code",
      "metadata": {
        "id": "sHIO48DTyzN3"
      },
      "source": [
        "scaler=MinMaxScaler()\n",
        "cols_scaling = Xb.columns\n",
        "Xb[cols_scaling]=scaler.fit_transform(Xb[cols_scaling])"
      ],
      "execution_count": null,
      "outputs": []
    },
    {
      "cell_type": "code",
      "metadata": {
        "id": "xr6s4_0r9KV6"
      },
      "source": [
        "X_train, X_test, y_train, y_test = train_test_split(Xb,yb,test_size=0.3,random_state=42,shuffle=True,stratify=yb)"
      ],
      "execution_count": null,
      "outputs": []
    },
    {
      "cell_type": "code",
      "metadata": {
        "colab": {
          "base_uri": "https://localhost:8080/"
        },
        "id": "m8q4_5XtSNrz",
        "outputId": "8fc65aee-4c21-48b7-afdb-7ab491ea2a98"
      },
      "source": [
        "values=[]\n",
        "models = [RandomForestClassifier(),LogisticRegression(),DecisionTreeClassifier(random_state=42),SVC(),KNeighborsClassifier(),XGBClassifier()]\n",
        "for m in models:\n",
        "  m.fit(X_train,y_train)\n",
        "  y_pred=m.predict(X_test)\n",
        "  print(m)\n",
        "  print(classification_report(y_test,y_pred)[1])\n",
        "  print(confusion_matrix(y_test,y_pred))\n",
        "  values.append([str(m)[:10],f1_score(y_test,y_pred), roc_auc_score(y_test,y_pred), recall_score(y_test,y_pred), precision_score(y_test,y_pred), \n",
        "      balanced_accuracy_score(y_test,y_pred), log_loss(y_test,y_pred)])\n",
        "  print('==========================================================')"
      ],
      "execution_count": null,
      "outputs": [
        {
          "output_type": "stream",
          "name": "stdout",
          "text": [
            "RandomForestClassifier()\n",
            " \n",
            "[[17938   778]\n",
            " [  351 18364]]\n",
            "==========================================================\n",
            "LogisticRegression()\n",
            " \n",
            "[[15770  2946]\n",
            " [ 5760 12955]]\n",
            "==========================================================\n",
            "DecisionTreeClassifier(random_state=42)\n",
            " \n",
            "[[17800   916]\n",
            " [  577 18138]]\n",
            "==========================================================\n",
            "SVC()\n",
            " \n",
            "[[15994  2722]\n",
            " [ 4977 13738]]\n",
            "==========================================================\n",
            "KNeighborsClassifier()\n",
            " \n",
            "[[16508  2208]\n",
            " [  500 18215]]\n",
            "==========================================================\n",
            "XGBClassifier()\n",
            " \n",
            "[[15404  3312]\n",
            " [ 2971 15744]]\n",
            "==========================================================\n"
          ]
        }
      ]
    },
    {
      "cell_type": "code",
      "metadata": {
        "id": "ggUyDUOVHtod"
      },
      "source": [
        "values.insert(0,['Model','f1_score','roc_auc_score','recall_score','precision_score','balanced_accuracy_score','log_loss'])\n",
        "results= pd.DataFrame(values[1:],columns=values[0])"
      ],
      "execution_count": null,
      "outputs": []
    },
    {
      "cell_type": "code",
      "metadata": {
        "colab": {
          "base_uri": "https://localhost:8080/",
          "height": 238
        },
        "id": "mlvDuMS1oxsz",
        "outputId": "6b5e6294-df1a-4fef-8d36-b83619c15ff1"
      },
      "source": [
        "results[['Model','f1_score','roc_auc_score','recall_score']]"
      ],
      "execution_count": null,
      "outputs": [
        {
          "output_type": "execute_result",
          "data": {
            "text/html": [
              "<div>\n",
              "<style scoped>\n",
              "    .dataframe tbody tr th:only-of-type {\n",
              "        vertical-align: middle;\n",
              "    }\n",
              "\n",
              "    .dataframe tbody tr th {\n",
              "        vertical-align: top;\n",
              "    }\n",
              "\n",
              "    .dataframe thead th {\n",
              "        text-align: right;\n",
              "    }\n",
              "</style>\n",
              "<table border=\"1\" class=\"dataframe\">\n",
              "  <thead>\n",
              "    <tr style=\"text-align: right;\">\n",
              "      <th></th>\n",
              "      <th>Model</th>\n",
              "      <th>f1_score</th>\n",
              "      <th>roc_auc_score</th>\n",
              "      <th>recall_score</th>\n",
              "    </tr>\n",
              "  </thead>\n",
              "  <tbody>\n",
              "    <tr>\n",
              "      <th>0</th>\n",
              "      <td>RandomFore</td>\n",
              "      <td>0.970177</td>\n",
              "      <td>0.969838</td>\n",
              "      <td>0.981245</td>\n",
              "    </tr>\n",
              "    <tr>\n",
              "      <th>1</th>\n",
              "      <td>LogisticRe</td>\n",
              "      <td>0.748498</td>\n",
              "      <td>0.767410</td>\n",
              "      <td>0.692225</td>\n",
              "    </tr>\n",
              "    <tr>\n",
              "      <th>2</th>\n",
              "      <td>DecisionTr</td>\n",
              "      <td>0.960470</td>\n",
              "      <td>0.960114</td>\n",
              "      <td>0.969169</td>\n",
              "    </tr>\n",
              "    <tr>\n",
              "      <th>3</th>\n",
              "      <td>SVC()</td>\n",
              "      <td>0.781123</td>\n",
              "      <td>0.794313</td>\n",
              "      <td>0.734064</td>\n",
              "    </tr>\n",
              "    <tr>\n",
              "      <th>4</th>\n",
              "      <td>KNeighbors</td>\n",
              "      <td>0.930809</td>\n",
              "      <td>0.927655</td>\n",
              "      <td>0.973283</td>\n",
              "    </tr>\n",
              "    <tr>\n",
              "      <th>5</th>\n",
              "      <td>XGBClassif</td>\n",
              "      <td>0.833655</td>\n",
              "      <td>0.832145</td>\n",
              "      <td>0.841250</td>\n",
              "    </tr>\n",
              "  </tbody>\n",
              "</table>\n",
              "</div>"
            ],
            "text/plain": [
              "        Model  f1_score  roc_auc_score  recall_score\n",
              "0  RandomFore  0.970177       0.969838      0.981245\n",
              "1  LogisticRe  0.748498       0.767410      0.692225\n",
              "2  DecisionTr  0.960470       0.960114      0.969169\n",
              "3       SVC()  0.781123       0.794313      0.734064\n",
              "4  KNeighbors  0.930809       0.927655      0.973283\n",
              "5  XGBClassif  0.833655       0.832145      0.841250"
            ]
          },
          "metadata": {},
          "execution_count": 41
        }
      ]
    },
    {
      "cell_type": "code",
      "metadata": {
        "colab": {
          "base_uri": "https://localhost:8080/",
          "height": 238
        },
        "id": "Axzh8o2OZiEF",
        "outputId": "93636bdf-54cf-428b-ff52-07abfedce10c"
      },
      "source": [
        "results[['precision_score','balanced_accuracy_score','log_loss']]"
      ],
      "execution_count": null,
      "outputs": [
        {
          "output_type": "execute_result",
          "data": {
            "text/html": [
              "<div>\n",
              "<style scoped>\n",
              "    .dataframe tbody tr th:only-of-type {\n",
              "        vertical-align: middle;\n",
              "    }\n",
              "\n",
              "    .dataframe tbody tr th {\n",
              "        vertical-align: top;\n",
              "    }\n",
              "\n",
              "    .dataframe thead th {\n",
              "        text-align: right;\n",
              "    }\n",
              "</style>\n",
              "<table border=\"1\" class=\"dataframe\">\n",
              "  <thead>\n",
              "    <tr style=\"text-align: right;\">\n",
              "      <th></th>\n",
              "      <th>precision_score</th>\n",
              "      <th>balanced_accuracy_score</th>\n",
              "      <th>log_loss</th>\n",
              "    </tr>\n",
              "  </thead>\n",
              "  <tbody>\n",
              "    <tr>\n",
              "      <th>0</th>\n",
              "      <td>0.959356</td>\n",
              "      <td>0.969838</td>\n",
              "      <td>1.041781</td>\n",
              "    </tr>\n",
              "    <tr>\n",
              "      <th>1</th>\n",
              "      <td>0.814729</td>\n",
              "      <td>0.767410</td>\n",
              "      <td>8.033367</td>\n",
              "    </tr>\n",
              "    <tr>\n",
              "      <th>2</th>\n",
              "      <td>0.951926</td>\n",
              "      <td>0.960114</td>\n",
              "      <td>1.377658</td>\n",
              "    </tr>\n",
              "    <tr>\n",
              "      <th>3</th>\n",
              "      <td>0.834629</td>\n",
              "      <td>0.794313</td>\n",
              "      <td>7.104171</td>\n",
              "    </tr>\n",
              "    <tr>\n",
              "      <th>4</th>\n",
              "      <td>0.891887</td>\n",
              "      <td>0.927655</td>\n",
              "      <td>2.498805</td>\n",
              "    </tr>\n",
              "    <tr>\n",
              "      <th>5</th>\n",
              "      <td>0.826196</td>\n",
              "      <td>0.832145</td>\n",
              "      <td>5.797595</td>\n",
              "    </tr>\n",
              "  </tbody>\n",
              "</table>\n",
              "</div>"
            ],
            "text/plain": [
              "   precision_score  balanced_accuracy_score  log_loss\n",
              "0         0.959356                 0.969838  1.041781\n",
              "1         0.814729                 0.767410  8.033367\n",
              "2         0.951926                 0.960114  1.377658\n",
              "3         0.834629                 0.794313  7.104171\n",
              "4         0.891887                 0.927655  2.498805\n",
              "5         0.826196                 0.832145  5.797595"
            ]
          },
          "metadata": {},
          "execution_count": 42
        }
      ]
    },
    {
      "cell_type": "code",
      "metadata": {
        "id": "wdWx9-RyZoZT"
      },
      "source": [
        ""
      ],
      "execution_count": null,
      "outputs": []
    }
  ]
}