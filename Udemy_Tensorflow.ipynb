{
  "nbformat": 4,
  "nbformat_minor": 0,
  "metadata": {
    "colab": {
      "name": "Udemy_Tensorflow.ipynb",
      "provenance": [],
      "private_outputs": true,
      "collapsed_sections": [],
      "mount_file_id": "1mk71ub0GPsBhTPlxtdBO-9BC3CxmVnEh",
      "authorship_tag": "ABX9TyNb5uKhjY+nt5yoZviuiSvr",
      "include_colab_link": true
    },
    "kernelspec": {
      "name": "python3",
      "display_name": "Python 3"
    }
  },
  "cells": [
    {
      "cell_type": "markdown",
      "metadata": {
        "id": "view-in-github",
        "colab_type": "text"
      },
      "source": [
        "<a href=\"https://colab.research.google.com/github/shwethaar/Machine_Learning/blob/master/Udemy_Tensorflow.ipynb\" target=\"_parent\"><img src=\"https://colab.research.google.com/assets/colab-badge.svg\" alt=\"Open In Colab\"/></a>"
      ]
    },
    {
      "cell_type": "markdown",
      "metadata": {
        "id": "ZU2dcPTIFF7Y",
        "colab_type": "text"
      },
      "source": [
        "### [Complete guide to tensorflow for deep learning with python](https://www.udemy.com/course/complete-guide-to-tensorflow-for-deep-learning-with-python/)"
      ]
    },
    {
      "cell_type": "code",
      "metadata": {
        "id": "4wRhLalXJN1d",
        "colab_type": "code",
        "colab": {}
      },
      "source": [
        "%tensorflow_version 1.x\n",
        "%matplotlib inline \n",
        "#Course uses Tensorflow verion 1.x\n",
        "# If not using Jupyter notebooks, exclude %matplotlib inline and execute plt.show() instead after plt.imshow to display graph\n",
        "import tensorflow as tf\n",
        "import numpy as np\n",
        "import pandas as pd\n",
        "import matplotlib.pyplot as plt\n",
        "from sklearn.preprocessing import MinMaxScaler\n",
        "from sklearn.model_selection import train_test_split"
      ],
      "execution_count": null,
      "outputs": []
    },
    {
      "cell_type": "markdown",
      "metadata": {
        "id": "zCI58HE6zBFV",
        "colab_type": "text"
      },
      "source": [
        "Crash course on numpy"
      ]
    },
    {
      "cell_type": "code",
      "metadata": {
        "id": "uW-seyyAUcYE",
        "colab_type": "code",
        "colab": {}
      },
      "source": [
        "#arrays\n",
        "mylist = [1,2,3,4,5]\n",
        "arr = np.array(mylist)#creates an array of given list elements\n",
        "print(arr,type(arr))\n",
        "print(np.arange(0,10,2))#does not include 10\n",
        "print(np.zeros(5))#creates an array of 5 zeroes\n",
        "print(np.zeros((3,5)))#3x5 matrix of zeroes\n",
        "print(np.ones(4))#array of ones\n",
        "print(np.ones((3,5)))#3x5 matrix of ones\n",
        "print(np.linspace(0,10,5))# array starting from 0 to 10 with 5 evenly spaced elements"
      ],
      "execution_count": null,
      "outputs": []
    },
    {
      "cell_type": "code",
      "metadata": {
        "id": "yCI8ARtgzJS4",
        "colab_type": "code",
        "colab": {}
      },
      "source": [
        "#random numbers\n",
        "print(np.random.randint(5))#random no. between 0 to 5(exclusive)\n",
        "print(np.random.randint(0,100,(2,2)))#2x2 matrix of random numbers in[0,100)\n",
        "np.random.seed(101)#applicable only for current cell\n",
        "arr=np.random.randint(0,100,10)#gives same output due to seed\n",
        "print(arr.reshape(2,5))#reshapes the array into 2x5 2Dmatrix"
      ],
      "execution_count": null,
      "outputs": []
    },
    {
      "cell_type": "code",
      "metadata": {
        "id": "4KWa_zEFzNN5",
        "colab_type": "code",
        "colab": {}
      },
      "source": [
        "print(np.random.randint(0,100,10))#output unaffected by seed\n",
        "mat = np.arange(0,100,).reshape(10,10)#masking\n",
        "print(mat[mat>50])#returns values of matrix satisfying the given condition-- masking"
      ],
      "execution_count": null,
      "outputs": []
    },
    {
      "cell_type": "markdown",
      "metadata": {
        "id": "cFkfHAee3pCN",
        "colab_type": "text"
      },
      "source": [
        "Crash course on pandas"
      ]
    },
    {
      "cell_type": "code",
      "metadata": {
        "id": "DMYqgKSvz_QE",
        "colab_type": "code",
        "colab": {}
      },
      "source": [
        "#reading a csv file into dataframe df\n",
        "df = pd.read_csv('/content/drive/My Drive/Machine Learning-Udemy/Tensorflow-Bootcamp-master/00-Crash-Course-Basics/salaries.csv')\n",
        "print(df['Salary'])#accessing a column\n",
        "print(df[['Salary','Age']])#accessing multiple column\n",
        "print(df.describe())#Statistical data of dataframe"
      ],
      "execution_count": null,
      "outputs": []
    },
    {
      "cell_type": "code",
      "metadata": {
        "id": "b3bCyjy56-Rh",
        "colab_type": "code",
        "colab": {}
      },
      "source": [
        "print(df[df['Age']>30])#masking\n",
        "df_arr=df.to_numpy#converting dataframe to numpy array"
      ],
      "execution_count": null,
      "outputs": []
    },
    {
      "cell_type": "markdown",
      "metadata": {
        "id": "54fOwGMC_w5-",
        "colab_type": "text"
      },
      "source": [
        "Crash course on data visualization"
      ]
    },
    {
      "cell_type": "code",
      "metadata": {
        "id": "FYUv5y7f_dBv",
        "colab_type": "code",
        "colab": {}
      },
      "source": [
        "x = np.arange(0,10)\n",
        "y=x**2\n",
        "plt.plot(x,y,'r--') # * acts as a marker and plotted in red\n",
        "plt.xlim(1,5) # sets limits of x axis from 1 to 5 both included\n",
        "plt.ylim(0,20) # sets limits of y axis from 1 to 5 both included\n",
        "plt.title(\"Plot 1\")#title of the plot\n",
        "plt.xlabel(\"X\")#labelling x axis\n",
        "plt.ylabel(\"Y\")#labelling of y axis"
      ],
      "execution_count": null,
      "outputs": []
    },
    {
      "cell_type": "code",
      "metadata": {
        "id": "-tNeVXg9Bm3L",
        "colab_type": "code",
        "colab": {}
      },
      "source": [
        "mat = np.arange(0,100).reshape(10,10)\n",
        "plt.imshow(mat,cmap='cubehelix_r')#represent data with gradient color"
      ],
      "execution_count": null,
      "outputs": []
    },
    {
      "cell_type": "markdown",
      "metadata": {
        "id": "666BZ3ElEHHz",
        "colab_type": "text"
      },
      "source": [
        ""
      ]
    },
    {
      "cell_type": "code",
      "metadata": {
        "id": "e36grAorEH7G",
        "colab_type": "code",
        "colab": {}
      },
      "source": [
        "plt.imshow(np.random.randint(0,1000,(10,10)),cmap='ocean_r')#represent data with gradient color\n",
        "plt.colorbar()"
      ],
      "execution_count": null,
      "outputs": []
    },
    {
      "cell_type": "markdown",
      "metadata": {
        "id": "k4Ge0VtoG-ey",
        "colab_type": "text"
      },
      "source": [
        "Scikit-Learn overview"
      ]
    },
    {
      "cell_type": "code",
      "metadata": {
        "id": "8FmSkHGHdGby",
        "colab_type": "code",
        "colab": {}
      },
      "source": [
        "data_arr = np.random.randint(0,100,(10,2))"
      ],
      "execution_count": null,
      "outputs": []
    },
    {
      "cell_type": "code",
      "metadata": {
        "id": "Zw88PrVtM-i7",
        "colab_type": "code",
        "colab": {}
      },
      "source": [
        "scaler_model = MinMaxScaler()\n",
        "#Below statement learns max and min values of each column and changes max values to 1 and min values to 0\n",
        "scaler_model.fit_transform(data_arr)"
      ],
      "execution_count": null,
      "outputs": []
    },
    {
      "cell_type": "code",
      "metadata": {
        "id": "OUaEyqYqcjSn",
        "colab_type": "code",
        "colab": {}
      },
      "source": [
        "my_data = np.random.randint(0,101,(50,4))"
      ],
      "execution_count": null,
      "outputs": []
    },
    {
      "cell_type": "code",
      "metadata": {
        "id": "kbbIv6WVd_VR",
        "colab_type": "code",
        "colab": {}
      },
      "source": [
        "df = pd.DataFrame(data=my_data,columns=['f1','f2','f3','label'])\n",
        "x=df[['f1','f2','f3']]\n",
        "y=df['label']"
      ],
      "execution_count": null,
      "outputs": []
    },
    {
      "cell_type": "code",
      "metadata": {
        "id": "PkC0PoToeYa_",
        "colab_type": "code",
        "colab": {}
      },
      "source": [
        "#splitting into training and testing datasets\n",
        "x_train, x_test, y_train, y_test = train_test_split(x, y, test_size=0.3, random_state=50)"
      ],
      "execution_count": null,
      "outputs": []
    },
    {
      "cell_type": "markdown",
      "metadata": {
        "id": "IjfB5a-yDcN0",
        "colab_type": "text"
      },
      "source": [
        "## **Introduction to neural networks**"
      ]
    },
    {
      "cell_type": "markdown",
      "metadata": {
        "id": "TvH_W8cckVHw",
        "colab_type": "text"
      },
      "source": [
        "*   A neuron in an ANN is similar to a biological neuron and is also known as perceptron.\n",
        "*   Activation function of a neuron  is a mathematical equation calculating weighted sum.\n",
        "*   Cost function is a measure of performance of a neuron but slows calculations.Instead a cross entropy function is used.Common ones include the ReLu and tanh functions.\n",
        "*   Gradient descent is an optimization algorithm for finding the minimum value of a function, taking steps proportional to the negative of the gradient. In order to quickly adjust the optimal parameters/ weights across our entire network, backpropagation comes into picture.\n",
        "*   Backpropagation is used to calculate the error contribution of each neuron after a batch of data is processed, relying heavily on the chain rule to go back to the network to calculate errors.\n",
        "\n",
        "[Tensorflow playground for visualization of a neural network](http://playground.tensorflow.org/) "
      ]
    },
    {
      "cell_type": "markdown",
      "metadata": {
        "id": "BBf6OmdXDBbf",
        "colab_type": "text"
      },
      "source": [
        "## **Manual realization of a neural network (without Tensorflow)**"
      ]
    },
    {
      "cell_type": "markdown",
      "metadata": {
        "id": "ozpfvn3NKsnM",
        "colab_type": "text"
      },
      "source": [
        "A simple neural network of three nodes is created without the use of Tensorflow. Two nodes *n1* and *n2* signifying constants and given as inputs to another node *n3* . *n3* implements operations of addition and multiplication of the given inputs , giving the resultant as the output."
      ]
    },
    {
      "cell_type": "markdown",
      "metadata": {
        "id": "y2ADaWKxHvcs",
        "colab_type": "text"
      },
      "source": [
        "Creation of a class *Operation* with attributes(*input_nodes,output_nodes,global default graph variable*) and methods(*compute* (overwritten by subclasses))"
      ]
    },
    {
      "cell_type": "code",
      "metadata": {
        "id": "yOxazZwDOC-2",
        "colab_type": "code",
        "colab": {}
      },
      "source": [
        "class Operation():\n",
        "  def __init__(self, input_nodes = []):\n",
        "    self.input_nodes = input_nodes \n",
        "    self.output_nodes = [] \n",
        "    for node in input_nodes:\n",
        "      node.output_nodes.append(self)\n",
        "    _default_graph.operations.append(self)\n",
        "  def compute(self):\n",
        "    pass"
      ],
      "execution_count": null,
      "outputs": []
    },
    {
      "cell_type": "code",
      "metadata": {
        "id": "a2rc0c1PaEjP",
        "colab_type": "code",
        "colab": {}
      },
      "source": [
        "#Creation Of addition operation\n",
        "class add(Operation):\n",
        "  def __init__(self, x, y):\n",
        "    super().__init__([x, y])\n",
        "  def compute(self, x_var, y_var):\n",
        "    self.inputs = [x_var, y_var]\n",
        "    return x_var + y_var"
      ],
      "execution_count": null,
      "outputs": []
    },
    {
      "cell_type": "code",
      "metadata": {
        "colab_type": "code",
        "id": "KhXujWkSL642",
        "colab": {}
      },
      "source": [
        "#Creation of the multiplication operation\n",
        "class multiply(Operation):\n",
        "  def __init__(self, a, b):\n",
        "    super().__init__([a, b])\n",
        "  def compute(self, a_var, b_var):\n",
        "    self.inputs = [a_var, b_var]\n",
        "    return a_var * b_var"
      ],
      "execution_count": null,
      "outputs": []
    },
    {
      "cell_type": "code",
      "metadata": {
        "id": "6NrxJsVMKb9I",
        "colab_type": "code",
        "colab": {}
      },
      "source": [
        "#Creation of the matrix multiplication operation\n",
        "class matmul(Operation):\n",
        "  def __init__(self, a, b):\n",
        "    super().__init__([a, b])\n",
        "  def compute(self, a_mat, b_mat):\n",
        "    self.inputs = [a_mat, b_mat]\n",
        "    return a_mat.dot(b_mat) #assuming numpy arrays"
      ],
      "execution_count": null,
      "outputs": []
    },
    {
      "cell_type": "markdown",
      "metadata": {
        "id": "mesylZUmOFOb",
        "colab_type": "text"
      },
      "source": [
        "*   Placeholder: 'empty' node that needs a value to be provided to compute output (features/labels, etc.)\n",
        "*   Variables: Changeable parameter of the graph (weigths of NN)\n",
        "*   Graph: global variable containing variables and placeholders to operations"
      ]
    },
    {
      "cell_type": "code",
      "metadata": {
        "id": "8mv7jiA_MZlu",
        "colab_type": "code",
        "colab": {}
      },
      "source": [
        "class Placeholder():\n",
        "  def __init__(self):\n",
        "    self.output_nodes = []\n",
        "    _default_graph.placeholders.append(self)"
      ],
      "execution_count": null,
      "outputs": []
    },
    {
      "cell_type": "code",
      "metadata": {
        "id": "jEJJlpSEPuMD",
        "colab_type": "code",
        "colab": {}
      },
      "source": [
        "class Variable():\n",
        "  def __init__(self, initial_value = None):\n",
        "    self.value = initial_value\n",
        "    self.output_nodes = [] \n",
        "    _default_graph.variables.append(self)"
      ],
      "execution_count": null,
      "outputs": []
    },
    {
      "cell_type": "code",
      "metadata": {
        "id": "hIQlS1nVQETH",
        "colab_type": "code",
        "colab": {}
      },
      "source": [
        "class Graph():\n",
        "  def __init__(self):      \n",
        "    self.operations = []\n",
        "    self.placeholders = []\n",
        "    self.variables = []    \n",
        "  def set_as_default(self):\n",
        "    global _default_graph\n",
        "    _default_graph = self"
      ],
      "execution_count": null,
      "outputs": []
    },
    {
      "cell_type": "markdown",
      "metadata": {
        "id": "KOJswzWVo_N1",
        "colab_type": "text"
      },
      "source": [
        "Assuming z = Ax + b\n",
        "Let A = 10 , b = 1"
      ]
    },
    {
      "cell_type": "code",
      "metadata": {
        "id": "Ze1R_trVQn_Y",
        "colab_type": "code",
        "colab": {}
      },
      "source": [
        "g =Graph()\n",
        "g.set_as_default()\n",
        "A = Variable(10)\n",
        "b=Variable()\n",
        "x=Placeholder()\n",
        "y= multiply(A,x)\n",
        "z=add(y,b)"
      ],
      "execution_count": null,
      "outputs": []
    },
    {
      "cell_type": "code",
      "metadata": {
        "id": "GUqKPzlLMxxS",
        "colab_type": "code",
        "colab": {}
      },
      "source": [
        "#Traversing operation Nodes\n",
        "def traverse_postorder(operation):\n",
        "  nodes_postorder = []\n",
        "  def recurse(node):\n",
        "    if isinstance(node, Operation):\n",
        "      for input_node in node.input_nodes:\n",
        "        recurse(input_node)\n",
        "    nodes_postorder.append(node)\n",
        "  recurse(operation)\n",
        "  return nodes_postorder"
      ],
      "execution_count": null,
      "outputs": []
    },
    {
      "cell_type": "code",
      "metadata": {
        "id": "eHZZDdmdOpe1",
        "colab_type": "code",
        "colab": {}
      },
      "source": [
        "class Session:\n",
        "  def run(self, operation, feed_dict = {}):      \n",
        "    nodes_postorder = traverse_postorder(operation)\n",
        "    for node in nodes_postorder:\n",
        "      if type(node) == Placeholder:\n",
        "        node.output = feed_dict[node]          \n",
        "      elif type(node) == Variable:          \n",
        "        node.output = node.value        \n",
        "      else:     \n",
        "        node.inputs = [input_node.output for input_node in node.input_nodes]\n",
        "        node.output = node.compute(*node.inputs)\n",
        "         # * is a way of providing input when we don't know how many inputs are being given beforehand\n",
        "      if type(node.output) == list:\n",
        "        node.output = np.array(node.output)\n",
        "    return operation.output"
      ],
      "execution_count": null,
      "outputs": []
    },
    {
      "cell_type": "code",
      "metadata": {
        "id": "OXLZqTQmSFTs",
        "colab_type": "code",
        "colab": {}
      },
      "source": [
        "sess = Session()"
      ],
      "execution_count": null,
      "outputs": []
    },
    {
      "cell_type": "code",
      "metadata": {
        "id": "84hEmz4ISYrv",
        "colab_type": "code",
        "colab": {}
      },
      "source": [
        "result = sess.run(operation = z , feed_dict ={x:10})"
      ],
      "execution_count": null,
      "outputs": []
    },
    {
      "cell_type": "markdown",
      "metadata": {
        "id": "eqvJ_xqNd9JF",
        "colab_type": "text"
      },
      "source": [
        "Linear Classification"
      ]
    },
    {
      "cell_type": "code",
      "metadata": {
        "id": "G4_ly5ZDeEd7",
        "colab_type": "code",
        "colab": {}
      },
      "source": [
        "#Activation Function\n",
        "def sigmoid(z):\n",
        "  return 1/(1+np.exp(-z))\n",
        "sample_z = np.linspace(-10,10,100)\n",
        "sample_a = sigmoid(sample_z)\n",
        "plt.plot(sample_z,sample_a)"
      ],
      "execution_count": null,
      "outputs": []
    },
    {
      "cell_type": "code",
      "metadata": {
        "id": "8g1mEZe3fRnt",
        "colab_type": "code",
        "colab": {}
      },
      "source": [
        "class Sigmoid(Operation):\n",
        "  def __init__(self,z):\n",
        "    super().__init__([z])\n",
        "  def compute(self,z_val):\n",
        "    return 1/(1+np.exp(-z))"
      ],
      "execution_count": null,
      "outputs": []
    },
    {
      "cell_type": "code",
      "metadata": {
        "id": "lPKQm7VGqRwn",
        "colab_type": "code",
        "colab": {}
      },
      "source": [
        "#Creating dataset using sklearn\n",
        "from sklearn.datasets import make_blobs\n",
        "data = make_blobs(n_samples=50,n_features=2,centers=2,random_state=75)\n",
        "#manual neural network created is used to draw a line of regression to separate dataset "
      ],
      "execution_count": null,
      "outputs": []
    },
    {
      "cell_type": "code",
      "metadata": {
        "id": "gPwN__L5r7mu",
        "colab_type": "code",
        "colab": {}
      },
      "source": [
        "#plot data\n",
        "features = data[0]\n",
        "labels = data[1]\n",
        "plt.scatter(features[:,0],features[:,1],c=labels,cmap='coolwarm')"
      ],
      "execution_count": null,
      "outputs": []
    },
    {
      "cell_type": "code",
      "metadata": {
        "id": "dIAXHxzgsS89",
        "colab_type": "code",
        "colab": {}
      },
      "source": [
        "x= np.linspace(0,11,10)\n",
        "y = -x + 5#Above line is classified as red and below as blue\n",
        "plt.scatter(features[:,0],features[:,1],c=labels,cmap='coolwarm')\n",
        "plt.plot(x,y)"
      ],
      "execution_count": null,
      "outputs": []
    },
    {
      "cell_type": "code",
      "metadata": {
        "id": "83Kim_h0uGT2",
        "colab_type": "code",
        "colab": {}
      },
      "source": [
        "#Define perceptron model using matrix representation of features\n",
        "np.array()"
      ],
      "execution_count": null,
      "outputs": []
    }
  ]
}