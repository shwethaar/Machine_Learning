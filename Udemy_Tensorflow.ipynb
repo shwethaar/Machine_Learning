{
  "nbformat": 4,
  "nbformat_minor": 0,
  "metadata": {
    "colab": {
      "name": "Udemy_Tensorflow.ipynb",
      "provenance": [],
      "private_outputs": true,
      "collapsed_sections": [],
      "authorship_tag": "ABX9TyPe5r0ZvYjDqVKNSiKoUhGm",
      "include_colab_link": true
    },
    "kernelspec": {
      "name": "python3",
      "display_name": "Python 3"
    }
  },
  "cells": [
    {
      "cell_type": "markdown",
      "metadata": {
        "id": "view-in-github",
        "colab_type": "text"
      },
      "source": [
        "<a href=\"https://colab.research.google.com/github/shwethaar/Machine_Learning/blob/master/Udemy_Tensorflow.ipynb\" target=\"_parent\"><img src=\"https://colab.research.google.com/assets/colab-badge.svg\" alt=\"Open In Colab\"/></a>"
      ]
    },
    {
      "cell_type": "code",
      "metadata": {
        "id": "4wRhLalXJN1d",
        "colab_type": "code",
        "colab": {}
      },
      "source": [
        "%tensorflow_version 1.x\n",
        "import tensorflow as tf\n",
        "import numpy as np"
      ],
      "execution_count": null,
      "outputs": []
    },
    {
      "cell_type": "markdown",
      "metadata": {
        "id": "zCI58HE6zBFV",
        "colab_type": "text"
      },
      "source": [
        "Crash course on numpy"
      ]
    },
    {
      "cell_type": "code",
      "metadata": {
        "id": "uW-seyyAUcYE",
        "colab_type": "code",
        "colab": {}
      },
      "source": [
        "#arrays\n",
        "mylist = [1,2,3,4,5]\n",
        "arr = np.array(mylist)#creates an array of given list elements\n",
        "print(arr,type(arr))\n",
        "print(np.arange(0,10,2))#does not include 10\n",
        "print(np.zeros(5))#creates an array of 5 zeroes\n",
        "print(np.zeros((3,5)))#3x5 matrix of zeroes\n",
        "print(np.ones(4))#array of ones\n",
        "print(np.ones((3,5)))#3x5 matrix of ones\n",
        "print(np.linspace(0,10,5))# array starting from 0 to 10 with 5 evenly spaced elements"
      ],
      "execution_count": null,
      "outputs": []
    },
    {
      "cell_type": "code",
      "metadata": {
        "id": "yCI8ARtgzJS4",
        "colab_type": "code",
        "colab": {}
      },
      "source": [
        "#random numbers\n",
        "print(np.random.randint(5))#random no. between 0 to 5(exclusive)\n",
        "print(np.random.randint(0,100,(2,2)))#2x2 matrix of random numbers in[0,100)\n",
        "np.random.seed(101)#applicable only for current cell\n",
        "arr=np.random.randint(0,100,10)#gives same output due to seed\n",
        "print(arr.reshape(2,5))#reshapes the array into 2x5 2Dmatrix"
      ],
      "execution_count": null,
      "outputs": []
    },
    {
      "cell_type": "code",
      "metadata": {
        "id": "4KWa_zEFzNN5",
        "colab_type": "code",
        "colab": {}
      },
      "source": [
        "print(np.random.randint(0,100,10))#output unaffected by seed\n",
        "mat = np.arange(0,100,).reshape(10,10)#masking\n",
        "print(mat[mat>50])#returns values of matrix satisfyong the given condition-- masking"
      ],
      "execution_count": null,
      "outputs": []
    },
    {
      "cell_type": "markdown",
      "metadata": {
        "id": "cFkfHAee3pCN",
        "colab_type": "text"
      },
      "source": [
        "Crash course on pandas"
      ]
    },
    {
      "cell_type": "code",
      "metadata": {
        "id": "DMYqgKSvz_QE",
        "colab_type": "code",
        "colab": {}
      },
      "source": [
        ""
      ],
      "execution_count": null,
      "outputs": []
    }
  ]
}